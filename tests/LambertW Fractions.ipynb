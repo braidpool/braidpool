{
 "cells": [
  {
   "cell_type": "code",
   "execution_count": 73,
   "id": "44a9bf62-6d5d-49ae-a57a-d48599692f5f",
   "metadata": {},
   "outputs": [],
   "source": [
    "from fractions import Fraction\n",
    "from scipy.special import lambertw\n",
    "from math import gcd\n",
    "\n",
    "def normalize_fraction(frac, max_bits=256):\n",
    "    \"\"\" Normalize the fraction so both numerator and denominator fit within <max_bits>. \"\"\"\n",
    "    max_val = 2 ** (max_bits - 1) - 1\n",
    "    num, denom = frac.numerator, frac.denominator\n",
    "    while abs(num) > max_val or abs(denom) > max_val:\n",
    "        # Scale down the fraction by dividing both parts by 2\n",
    "        num, denom = num // 2, denom // 2\n",
    "    \n",
    "    return Fraction(num, denom)\n",
    "\n",
    "def fits_precision(term, max_bits=256):\n",
    "    \"\"\"Check if the term is smaller than what can be represented in the specified number of bits.\"\"\"\n",
    "    # Calculate the smallest representable value for a given bit size\n",
    "    min_value = 1 / (2 ** (max_bits - 1))\n",
    "    return abs(term) < min_value\n",
    "\n",
    "def log(x, max_bits=256):\n",
    "    \"\"\"Compute the natural logarithm of x using a series expansion.\"\"\"\n",
    "    if x <= 0:\n",
    "        raise ValueError(\"Logarithm is undefined for non-positive values.\")\n",
    "    \n",
    "    y = (x - Fraction(1)) / (x + Fraction(1))\n",
    "    result = Fraction(0)\n",
    "    n = 1\n",
    "    \n",
    "    while True:\n",
    "        term = ((-1) ** (n + 1)) * (y ** n) / n\n",
    "        new_result = result + term\n",
    "        \n",
    "        # Normalize the result\n",
    "        new_result = normalize_fraction(new_result)\n",
    "        \n",
    "        if fits_precision(term, max_bits):\n",
    "            break  # Stop if the term is too small to affect precision within the bit limit\n",
    "        \n",
    "        result = new_result\n",
    "        n += 1\n",
    "    \n",
    "    return result * 2\n",
    "\n",
    "def exp(x, max_bits=256):\n",
    "    \"\"\"Compute e^x using a series expansion.\"\"\"\n",
    "    result = Fraction(1)\n",
    "    term = Fraction(1)\n",
    "    n = 1\n",
    "    \n",
    "    while True:\n",
    "        term *= x / n\n",
    "        new_result = result + term\n",
    "        \n",
    "        # Normalize the result\n",
    "        new_result = normalize_fraction(new_result)\n",
    "        \n",
    "        if fits_precision(term, max_bits):\n",
    "            break  # Stop if the term is too small to affect precision within the bit limit\n",
    "        \n",
    "        result = new_result\n",
    "        n += 1\n",
    "    \n",
    "    return result\n",
    "\n",
    "def lambert_w_fraction(x, max_bits=256):\n",
    "    \"\"\"Compute Lambert W function for x using Newton's method.\"\"\"\n",
    "    if x == 0:\n",
    "        return Fraction(0)\n",
    "    \n",
    "    # Initial guess\n",
    "    w = Fraction(lambertw(float(x)).real)\n",
    "    \n",
    "    while True:\n",
    "        e_w = exp(w, max_bits)\n",
    "        f_w = w * e_w - x\n",
    "        f_prime_w = e_w * (w + 1)\n",
    "        \n",
    "        # Newton's method update: w = w - f(w) / f'(w)\n",
    "        new_w = w - f_w / f_prime_w\n",
    "        \n",
    "        # Normalize the result\n",
    "        new_w = normalize_fraction(new_w)\n",
    "        \n",
    "        if fits_precision(f_w / f_prime_w, max_bits):\n",
    "            break  # Stop if the correction term is too small to affect precision within the bit limit\n",
    "        \n",
    "        w = new_w\n",
    "    \n",
    "    return w"
   ]
  },
  {
   "cell_type": "code",
   "execution_count": 74,
   "id": "97d4669e-9807-4d1a-87fc-b5c310e8f170",
   "metadata": {},
   "outputs": [
    {
     "data": {
      "text/plain": [
       "Fraction(-22165288075754041349619509952434724978441066390835170094929633039240746399401, 27333163362901613601132434115890135952555425666077976971589371399160323879670)"
      ]
     },
     "execution_count": 74,
     "metadata": {},
     "output_type": "execute_result"
    }
   ],
   "source": [
    "log(Fraction(1,2))"
   ]
  },
  {
   "cell_type": "code",
   "execution_count": 75,
   "id": "0325d5f1-fd99-4585-83c3-bc7ca4aae1b4",
   "metadata": {},
   "outputs": [
    {
     "name": "stdout",
     "output_type": "stream",
     "text": [
      "w(1/7) = 0.12595113283617557 scipy.special.lambertw(1/7) = 0.12595113283617557\n"
     ]
    }
   ],
   "source": [
    "w17 = lambert_w_fraction(Fraction(1,7), 256)\n",
    "print(f\"w(1/7) = {float(w17)} scipy.special.lambertw(1/7) = {lambertw(1/7).real}\")"
   ]
  },
  {
   "cell_type": "code",
   "execution_count": 72,
   "id": "022b4ccd-e63e-4adc-8f68-9ac770c025ea",
   "metadata": {},
   "outputs": [
    {
     "data": {
      "text/plain": [
       "Fraction(4537867799263137, 36028797018963968)"
      ]
     },
     "execution_count": 72,
     "metadata": {},
     "output_type": "execute_result"
    }
   ],
   "source": [
    "Fraction(lambertw(1/7).real)"
   ]
  },
  {
   "cell_type": "code",
   "execution_count": 76,
   "id": "12e53f08-bc73-4137-ab96-51c7d4753e2d",
   "metadata": {},
   "outputs": [
    {
     "name": "stdout",
     "output_type": "stream",
     "text": [
      "W(7/7-1) = 0.5671432904097838   0.5671432904097838\n",
      "W(8/7-1) = 0.6167778161075422   0.6167778161075422\n",
      "W(9/7-1) = 0.6627188557116432   0.6627188557116432\n",
      "W(10/7-1) = 0.7055097010790102   0.7055097010790102\n",
      "W(11/7-1) = 0.7455791302671205   0.7455791302671206\n",
      "W(12/7-1) = 0.7832718955427015   0.7832718955427014\n",
      "W(13/7-1) = 0.8188696156542401   0.8188696156542402\n",
      "W(14/7-1) = 0.8526055020137255   0.8526055020137254\n",
      "W(15/7-1) = 0.8846749930084885   0.8846749930084885\n",
      "W(16/7-1) = 0.915243596566803   0.915243596566803\n",
      "W(17/7-1) = 0.944452781455909   0.944452781455909\n",
      "W(18/7-1) = 0.972424475500165   0.972424475500165\n",
      "W(19/7-1) = 0.9992645503434486   0.9992645503434486\n",
      "W(20/7-1) = 1.025065556445599   1.025065556445599\n",
      "W(21/7-1) = 1.04990889496404   1.04990889496404\n",
      "W(22/7-1) = 1.0738665609038538   1.0738665609038538\n",
      "W(23/7-1) = 1.0970025557868635   1.0970025557868635\n",
      "W(24/7-1) = 1.1193740426839116   1.1193740426839116\n",
      "W(25/7-1) = 1.1410322983118264   1.1410322983118266\n",
      "W(26/7-1) = 1.16202350375627   1.16202350375627\n",
      "W(27/7-1) = 1.182389405740078   1.182389405740078\n",
      "W(28/7-1) = 1.2021678731970429   1.2021678731970429\n",
      "W(29/7-1) = 1.221393368535328   1.2213933685353282\n",
      "W(30/7-1) = 1.2400973488966809   1.2400973488966809\n",
      "W(31/7-1) = 1.2583086095944165   1.2583086095944165\n",
      "W(32/7-1) = 1.2760535794997854   1.2760535794997854\n",
      "W(33/7-1) = 1.293356576265936   1.293356576265936\n",
      "W(34/7-1) = 1.3102400278020532   1.3102400278020532\n",
      "W(35/7-1) = 1.3267246652422002   1.3267246652422002\n",
      "W(36/7-1) = 1.3428296917230202   1.3428296917230202\n",
      "W(37/7-1) = 1.3585729305386114   1.3585729305386112\n",
      "W(38/7-1) = 1.3739709556392667   1.3739709556392667\n",
      "W(39/7-1) = 1.3890392069526938   1.3890392069526938\n"
     ]
    }
   ],
   "source": [
    "TARGET_NC = 7\n",
    "for nb in range(TARGET_NC, 40):\n",
    "    w = lambert_w_fraction(Fraction(nb,7), 256)\n",
    "    print(f\"W({nb}/7-1) = {float(w)}   {lambertw(nb/TARGET_NC).real}\")"
   ]
  },
  {
   "cell_type": "code",
   "execution_count": 43,
   "id": "242ff0e2-c32f-43b7-b93a-c9347900a502",
   "metadata": {},
   "outputs": [
    {
     "data": {
      "text/plain": [
       "np.float64(0.0021054829516762874)"
      ]
     },
     "execution_count": 43,
     "metadata": {},
     "output_type": "execute_result"
    }
   ],
   "source": [
    "(float(_) - lambertw(1/7).real) / float(_)"
   ]
  },
  {
   "cell_type": "code",
   "execution_count": 29,
   "id": "1aa6e477-8972-4650-a03f-d9327bff9ea6",
   "metadata": {},
   "outputs": [
    {
     "data": {
      "text/plain": [
       "Fraction(52615563062464827257207977029413699224599281681447, 415036611773027758665107587226080964835247810150400)"
      ]
     },
     "execution_count": 29,
     "metadata": {},
     "output_type": "execute_result"
    }
   ],
   "source": [
    "fit_within_bits(lambert_w_fraction(Fraction(1,7), 1), max_bits=256)"
   ]
  },
  {
   "cell_type": "code",
   "execution_count": 8,
   "id": "2fae91cb-f477-4a59-a5a7-6abc21a1eb28",
   "metadata": {},
   "outputs": [
    {
     "name": "stdout",
     "output_type": "stream",
     "text": [
      "28.2 μs ± 1.08 μs per loop (mean ± std. dev. of 7 runs, 10,000 loops each)\n"
     ]
    }
   ],
   "source": [
    "%timeit exp(Fraction(1,7), 10)"
   ]
  },
  {
   "cell_type": "code",
   "execution_count": 9,
   "id": "df09b443-6762-4032-89cf-66c31a978d68",
   "metadata": {},
   "outputs": [
    {
     "name": "stdout",
     "output_type": "stream",
     "text": [
      "44.3 μs ± 971 ns per loop (mean ± std. dev. of 7 runs, 10,000 loops each)\n"
     ]
    }
   ],
   "source": [
    "%timeit log(Fraction(1,7), 10)"
   ]
  },
  {
   "cell_type": "code",
   "execution_count": 10,
   "id": "a9acf3e6-6b72-4dba-a1aa-8f367c26006c",
   "metadata": {},
   "outputs": [
    {
     "ename": "KeyboardInterrupt",
     "evalue": "",
     "output_type": "error",
     "traceback": [
      "\u001b[31m---------------------------------------------------------------------------\u001b[39m",
      "\u001b[31mKeyboardInterrupt\u001b[39m                         Traceback (most recent call last)",
      "\u001b[36mCell\u001b[39m\u001b[36m \u001b[39m\u001b[32mIn[10]\u001b[39m\u001b[32m, line 1\u001b[39m\n\u001b[32m----> \u001b[39m\u001b[32m1\u001b[39m \u001b[43mlambert_w_fraction\u001b[49m\u001b[43m(\u001b[49m\u001b[43mFraction\u001b[49m\u001b[43m(\u001b[49m\u001b[32;43m1\u001b[39;49m\u001b[43m,\u001b[49m\u001b[32;43m7\u001b[39;49m\u001b[43m)\u001b[49m\u001b[43m,\u001b[49m\u001b[43m \u001b[49m\u001b[32;43m10\u001b[39;49m\u001b[43m)\u001b[49m\n",
      "\u001b[36mCell\u001b[39m\u001b[36m \u001b[39m\u001b[32mIn[5]\u001b[39m\u001b[32m, line 21\u001b[39m, in \u001b[36mlambert_w_fraction\u001b[39m\u001b[34m(x, precision)\u001b[39m\n\u001b[32m     18\u001b[39m     w = Fraction(\u001b[32m1\u001b[39m) + Fraction(log(x, precision)) / (Fraction(\u001b[32m1\u001b[39m) + log(x, precision))\n\u001b[32m     20\u001b[39m \u001b[38;5;28;01mfor\u001b[39;00m _ \u001b[38;5;129;01min\u001b[39;00m \u001b[38;5;28mrange\u001b[39m(precision):\n\u001b[32m---> \u001b[39m\u001b[32m21\u001b[39m     e_w = \u001b[43mexp\u001b[49m\u001b[43m(\u001b[49m\u001b[43mw\u001b[49m\u001b[43m,\u001b[49m\u001b[43m \u001b[49m\u001b[43mprecision\u001b[49m\u001b[43m)\u001b[49m\n\u001b[32m     22\u001b[39m     f_w = w * e_w - x\n\u001b[32m     23\u001b[39m     f_prime_w = e_w * (w + \u001b[32m1\u001b[39m)\n",
      "\u001b[36mCell\u001b[39m\u001b[36m \u001b[39m\u001b[32mIn[5]\u001b[39m\u001b[32m, line 65\u001b[39m, in \u001b[36mexp\u001b[39m\u001b[34m(x, precision)\u001b[39m\n\u001b[32m     62\u001b[39m term = Fraction(\u001b[32m1\u001b[39m)\n\u001b[32m     64\u001b[39m \u001b[38;5;28;01mfor\u001b[39;00m n \u001b[38;5;129;01min\u001b[39;00m \u001b[38;5;28mrange\u001b[39m(\u001b[32m1\u001b[39m, precision + \u001b[32m1\u001b[39m):\n\u001b[32m---> \u001b[39m\u001b[32m65\u001b[39m     \u001b[43mterm\u001b[49m\u001b[43m \u001b[49m\u001b[43m*\u001b[49m\u001b[43m=\u001b[49m\u001b[43m \u001b[49m\u001b[43mx\u001b[49m\u001b[43m \u001b[49m\u001b[43m/\u001b[49m\u001b[43m \u001b[49m\u001b[43mn\u001b[49m\n\u001b[32m     66\u001b[39m     result += term\n\u001b[32m     68\u001b[39m \u001b[38;5;28;01mreturn\u001b[39;00m result\n",
      "\u001b[36mFile \u001b[39m\u001b[32m/usr/lib/python3.13/fractions.py:665\u001b[39m, in \u001b[36mFraction._operator_fallbacks.<locals>.forward\u001b[39m\u001b[34m(a, b)\u001b[39m\n\u001b[32m    663\u001b[39m \u001b[38;5;28;01mdef\u001b[39;00m\u001b[38;5;250m \u001b[39m\u001b[34mforward\u001b[39m(a, b):\n\u001b[32m    664\u001b[39m     \u001b[38;5;28;01mif\u001b[39;00m \u001b[38;5;28misinstance\u001b[39m(b, Fraction):\n\u001b[32m--> \u001b[39m\u001b[32m665\u001b[39m         \u001b[38;5;28;01mreturn\u001b[39;00m \u001b[43mmonomorphic_operator\u001b[49m\u001b[43m(\u001b[49m\u001b[43ma\u001b[49m\u001b[43m,\u001b[49m\u001b[43m \u001b[49m\u001b[43mb\u001b[49m\u001b[43m)\u001b[49m\n\u001b[32m    666\u001b[39m     \u001b[38;5;28;01melif\u001b[39;00m \u001b[38;5;28misinstance\u001b[39m(b, \u001b[38;5;28mint\u001b[39m):\n\u001b[32m    667\u001b[39m         \u001b[38;5;28;01mreturn\u001b[39;00m monomorphic_operator(a, Fraction(b))\n",
      "\u001b[36mFile \u001b[39m\u001b[32m/usr/lib/python3.13/fractions.py:796\u001b[39m, in \u001b[36mFraction._mul\u001b[39m\u001b[34m(a, b)\u001b[39m\n\u001b[32m    794\u001b[39m na, da = a._numerator, a._denominator\n\u001b[32m    795\u001b[39m nb, db = b._numerator, b._denominator\n\u001b[32m--> \u001b[39m\u001b[32m796\u001b[39m g1 = \u001b[43mmath\u001b[49m\u001b[43m.\u001b[49m\u001b[43mgcd\u001b[49m\u001b[43m(\u001b[49m\u001b[43mna\u001b[49m\u001b[43m,\u001b[49m\u001b[43m \u001b[49m\u001b[43mdb\u001b[49m\u001b[43m)\u001b[49m\n\u001b[32m    797\u001b[39m \u001b[38;5;28;01mif\u001b[39;00m g1 > \u001b[32m1\u001b[39m:\n\u001b[32m    798\u001b[39m     na //= g1\n",
      "\u001b[31mKeyboardInterrupt\u001b[39m: "
     ]
    }
   ],
   "source": [
    "lambert_w_fraction(Fraction(1,7), 10)"
   ]
  },
  {
   "cell_type": "code",
   "execution_count": null,
   "id": "3212a6d9-15aa-481b-a0cb-0dbda7fdb473",
   "metadata": {},
   "outputs": [],
   "source": []
  }
 ],
 "metadata": {
  "kernelspec": {
   "display_name": "Python 3",
   "language": "python",
   "name": "python3"
  },
  "language_info": {
   "codemirror_mode": {
    "name": "ipython",
    "version": 3
   },
   "file_extension": ".py",
   "mimetype": "text/x-python",
   "name": "python",
   "nbconvert_exporter": "python",
   "pygments_lexer": "ipython3",
   "version": "3.13.2"
  }
 },
 "nbformat": 4,
 "nbformat_minor": 5
}
